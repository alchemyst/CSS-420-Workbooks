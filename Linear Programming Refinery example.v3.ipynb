{
 "metadata": {
  "kernelspec": {
   "display_name": "Python 3",
   "language": "python",
   "name": "python3"
  },
  "language_info": {
   "codemirror_mode": {
    "name": "ipython",
    "version": 3
   },
   "file_extension": ".py",
   "mimetype": "text/x-python",
   "name": "python",
   "nbconvert_exporter": "python",
   "pygments_lexer": "ipython3",
   "version": "3.5.1"
  },
  "name": ""
 },
 "nbformat": 3,
 "nbformat_minor": 0,
 "worksheets": [
  {
   "cells": [
    {
     "cell_type": "markdown",
     "metadata": {},
     "source": [
      "Refinery problem\n",
      "==============="
     ]
    },
    {
     "cell_type": "code",
     "collapsed": false,
     "input": [
      "import pulp"
     ],
     "language": "python",
     "metadata": {},
     "outputs": [],
     "prompt_number": 1
    },
    {
     "cell_type": "code",
     "collapsed": false,
     "input": [
      "p = pulp.LpProblem(sense=pulp.LpMaximize)"
     ],
     "language": "python",
     "metadata": {},
     "outputs": [],
     "prompt_number": 2
    },
    {
     "cell_type": "code",
     "collapsed": false,
     "input": [
      "x = pulp.LpVariable.dict('x', range(1, 7), lowBound=0)"
     ],
     "language": "python",
     "metadata": {},
     "outputs": [],
     "prompt_number": 3
    },
    {
     "cell_type": "markdown",
     "metadata": {},
     "source": [
      "Objective"
     ]
    },
    {
     "cell_type": "code",
     "collapsed": false,
     "input": [
      "p += 36*x[1] + 24*x[4] + 21*x[5] + 10*x[6] - 24.5*x[1] - 16*x[2]"
     ],
     "language": "python",
     "metadata": {},
     "outputs": [],
     "prompt_number": 4
    },
    {
     "cell_type": "markdown",
     "metadata": {},
     "source": [
      "Constraints"
     ]
    },
    {
     "cell_type": "code",
     "collapsed": true,
     "input": [
      "p += 0.8*x[1] + 0.44*x[2] == x[3]\n",
      "p += 0.05*x[1] + 0.1*x[2] == x[4]\n",
      "p += 0.1*x[1] + 0.36*x[2] == x[5]\n",
      "p += 0.05*x[1] + 0.1*x[2] == x[6]\n",
      "p += x[3] <= 24000\n",
      "p += x[4] <= 2000\n",
      "p += x[5] <= 6000"
     ],
     "language": "python",
     "metadata": {},
     "outputs": [],
     "prompt_number": 5
    },
    {
     "cell_type": "code",
     "collapsed": false,
     "input": [
      "p"
     ],
     "language": "python",
     "metadata": {},
     "outputs": [
      {
       "metadata": {},
       "output_type": "pyout",
       "prompt_number": 6,
       "text": [
        "NoName:\n",
        "MAXIMIZE\n",
        "11.5*x_1 + -16*x_2 + 24*x_4 + 21*x_5 + 10*x_6 + 0.0\n",
        "SUBJECT TO\n",
        "_C1: 0.8 x_1 + 0.44 x_2 - x_3 = 0\n",
        "\n",
        "_C2: 0.05 x_1 + 0.1 x_2 - x_4 = 0\n",
        "\n",
        "_C3: 0.1 x_1 + 0.36 x_2 - x_5 = 0\n",
        "\n",
        "_C4: 0.05 x_1 + 0.1 x_2 - x_6 = 0\n",
        "\n",
        "_C5: x_3 <= 24000\n",
        "\n",
        "_C6: x_4 <= 2000\n",
        "\n",
        "_C7: x_5 <= 6000\n",
        "\n",
        "VARIABLES\n",
        "x_1 Continuous\n",
        "x_2 Continuous\n",
        "x_3 Continuous\n",
        "x_4 Continuous\n",
        "x_5 Continuous\n",
        "x_6 Continuous"
       ]
      }
     ],
     "prompt_number": 6
    },
    {
     "cell_type": "code",
     "collapsed": false,
     "input": [
      "p.solve()"
     ],
     "language": "python",
     "metadata": {},
     "outputs": [
      {
       "metadata": {},
       "output_type": "pyout",
       "prompt_number": 7,
       "text": [
        "1"
       ]
      }
     ],
     "prompt_number": 7
    },
    {
     "cell_type": "code",
     "collapsed": false,
     "input": [
      "p.objective.value()"
     ],
     "language": "python",
     "metadata": {},
     "outputs": [
      {
       "metadata": {},
       "output_type": "pyout",
       "prompt_number": 8,
       "text": [
        "459000.0"
       ]
      }
     ],
     "prompt_number": 8
    },
    {
     "cell_type": "code",
     "collapsed": false,
     "input": [
      "[(k, x[k].value()) for k in range(1, 7)]"
     ],
     "language": "python",
     "metadata": {},
     "outputs": [
      {
       "metadata": {},
       "output_type": "pyout",
       "prompt_number": 9,
       "text": [
        "[(1, 30000.0), (2, 0.0), (3, 24000.0), (4, 1500.0), (5, 3000.0), (6, 1500.0)]"
       ]
      }
     ],
     "prompt_number": 9
    }
   ],
   "metadata": {}
  }
 ]
}

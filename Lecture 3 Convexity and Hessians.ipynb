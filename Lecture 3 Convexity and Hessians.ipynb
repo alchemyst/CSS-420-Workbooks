{
 "cells": [
  {
   "cell_type": "markdown",
   "metadata": {},
   "source": [
    "Lecture 3\n",
    "===========================================================================\n",
    "\n",
    "Convexity and Hessians\n",
    "------------"
   ]
  },
  {
   "cell_type": "code",
   "execution_count": 2,
   "metadata": {
    "collapsed": true
   },
   "outputs": [],
   "source": [
    "from __future__ import division\n",
    "from __future__ import print_function"
   ]
  },
  {
   "cell_type": "code",
   "execution_count": 3,
   "metadata": {
    "collapsed": false
   },
   "outputs": [],
   "source": [
    "import sympy\n",
    "sympy.init_printing()"
   ]
  },
  {
   "cell_type": "markdown",
   "metadata": {},
   "source": [
    "Let's find the derivatives of a few functions"
   ]
  },
  {
   "cell_type": "code",
   "execution_count": 17,
   "metadata": {
    "collapsed": false
   },
   "outputs": [
    {
     "name": "stdout",
     "output_type": "stream",
     "text": [
      "a 6 True\n",
      "b 0 False\n",
      "c -10 False\n",
      "d 2*(-3*x + 2) And(-oo < x, x < 2/3)\n"
     ]
    }
   ],
   "source": [
    "x = sympy.Symbol('x', real=True)\n",
    "functions = (('a', 3*x**2),\n",
    "             ('b', 2*x),\n",
    "             ('c', -5*x**2),\n",
    "             ('d', 2*x**2 - x**3))\n",
    "for (c, f) in functions:\n",
    "    derivative = sympy.diff(f, x, 2)\n",
    "    positivex = sympy.solve(derivative>0, x)\n",
    "    print(c, str(derivative), positivex)"
   ]
  },
  {
   "cell_type": "markdown",
   "metadata": {},
   "source": [
    "We can also evaluate symbolic expressions of multiple variables"
   ]
  },
  {
   "cell_type": "code",
   "execution_count": 47,
   "metadata": {
    "collapsed": false
   },
   "outputs": [
    {
     "data": {
      "image/png": "[encoded data removed]",
      "text/latex": [
       "$$2 x_{1}^{3} - 3 x_{1} x_{2} + 2 x_{2}^{3}$$"
      ],
      "text/plain": [
       "    3                 3\n",
       "2⋅x₁  - 3⋅x₁⋅x₂ + 2⋅x₂ "
      ]
     },
     "execution_count": 47,
     "metadata": {},
     "output_type": "execute_result"
    }
   ],
   "source": [
    "x1, x2 = sympy.symbols('x1 x2')\n",
    "f = 2*x1**3 - 3*x1*x2 + 2*x2**3\n",
    "f"
   ]
  },
  {
   "cell_type": "markdown",
   "metadata": {},
   "source": [
    "For example f(1,2)"
   ]
  },
  {
   "cell_type": "code",
   "execution_count": 48,
   "metadata": {
    "collapsed": false
   },
   "outputs": [
    {
     "data": {
      "image/png": "[encoded data removed]",
      "text/latex": [
       "$$- 6 x + 2 \\left(x + 2\\right)^{3} + 4$$"
      ],
      "text/plain": [
       "                3    \n",
       "-6⋅x + 2⋅(x + 2)  + 4"
      ]
     },
     "execution_count": 48,
     "metadata": {},
     "output_type": "execute_result"
    }
   ],
   "source": [
    "f.subs({x1: x + 2, x2: 2})"
   ]
  },
  {
   "cell_type": "markdown",
   "metadata": {},
   "source": [
    "List comprehensions\n",
    "================\n",
    "\n",
    "The following pattern is very common in code, where we start with an empty list and append to it by processing another list."
   ]
  },
  {
   "cell_type": "code",
   "execution_count": 49,
   "metadata": {
    "collapsed": false
   },
   "outputs": [
    {
     "data": {
      "image/png": "[encoded data removed]",
      "text/latex": [
       "$$\\left [ 9, \\quad 16\\right ]$$"
      ],
      "text/plain": [
       "[9, 16]"
      ]
     },
     "execution_count": 49,
     "metadata": {},
     "output_type": "execute_result"
    }
   ],
   "source": [
    "v = []\n",
    "for i in [2, 1, 3, 4]:\n",
    "    if i > 2:\n",
    "        v.append(i**2)\n",
    "v"
   ]
  },
  {
   "cell_type": "markdown",
   "metadata": {},
   "source": [
    "In fact, it is so common that there is a shorthand in Python which does exactly that called a _list comprehension_"
   ]
  },
  {
   "cell_type": "code",
   "execution_count": 50,
   "metadata": {
    "collapsed": false
   },
   "outputs": [
    {
     "data": {
      "image/png": "[encoded data removed]",
      "text/latex": [
       "$$\\left [ 9, \\quad 16\\right ]$$"
      ],
      "text/plain": [
       "[9, 16]"
      ]
     },
     "execution_count": 50,
     "metadata": {},
     "output_type": "execute_result"
    }
   ],
   "source": [
    "[i**2 for i in [2, 1, 3, 4] if i > 2]"
   ]
  },
  {
   "cell_type": "markdown",
   "metadata": {},
   "source": [
    "This gives us an easy way to substitute the solution of our previous set of equtions into each equation:"
   ]
  },
  {
   "cell_type": "code",
   "execution_count": 51,
   "metadata": {
    "collapsed": false
   },
   "outputs": [
    {
     "data": {
      "image/png": "[encoded data removed]",
      "text/latex": [
       "$$\\left [ 0, \\quad 0\\right ]$$"
      ],
      "text/plain": [
       "[0, 0]"
      ]
     },
     "execution_count": 51,
     "metadata": {},
     "output_type": "execute_result"
    }
   ],
   "source": [
    "[eq.subs(ans) for eq in eqs]"
   ]
  },
  {
   "cell_type": "markdown",
   "metadata": {},
   "source": [
    "And take the partial derivative w.r.t. each variable"
   ]
  },
  {
   "cell_type": "code",
   "execution_count": 52,
   "metadata": {
    "collapsed": false,
    "scrolled": true
   },
   "outputs": [
    {
     "data": {
      "image/png": "[encoded data removed]",
      "text/latex": [
       "$$\\left [ 6 x_{1}^{2} - 3 x_{2}, \\quad - 3 x_{1} + 6 x_{2}^{2}\\right ]$$"
      ],
      "text/plain": [
       "⎡    2                     2⎤\n",
       "⎣6⋅x₁  - 3⋅x₂, -3⋅x₁ + 6⋅x₂ ⎦"
      ]
     },
     "execution_count": 52,
     "metadata": {},
     "output_type": "execute_result"
    }
   ],
   "source": [
    "variables = [x1, x2]\n",
    "df = [f.diff(variable, 1) for variable in variables]\n",
    "df"
   ]
  },
  {
   "cell_type": "markdown",
   "metadata": {},
   "source": [
    "### Gradients"
   ]
  },
  {
   "cell_type": "markdown",
   "metadata": {},
   "source": [
    "We can use this to build a function to calculate the gradient vector:"
   ]
  },
  {
   "cell_type": "code",
   "execution_count": 109,
   "metadata": {
    "collapsed": false
   },
   "outputs": [
    {
     "data": {
      "image/png": "[encoded data removed]",
      "text/latex": [
       "$$- 6 x + 2 \\left(x + 2\\right)^{3} + 4$$"
      ],
      "text/plain": [
       "                3    \n",
       "-6⋅x + 2⋅(x + 2)  + 4"
      ]
     },
     "execution_count": 109,
     "metadata": {},
     "output_type": "execute_result"
    }
   ],
   "source": [
    "f.subs({x1: x + 2, x2: 2})"
   ]
  },
  {
   "cell_type": "code",
   "execution_count": 110,
   "metadata": {
    "collapsed": true
   },
   "outputs": [],
   "source": [
    "def gradient(f, variables):\n",
    "    return sympy.Matrix([f.diff(variable) for variable in variables])"
   ]
  },
  {
   "cell_type": "markdown",
   "metadata": {},
   "source": [
    "We can also calculate the gradient using the `.jacobian` method on matrix objects. Notice that it doesn't return a column vector by default, so we have to transpose."
   ]
  },
  {
   "cell_type": "code",
   "execution_count": 111,
   "metadata": {
    "collapsed": true
   },
   "outputs": [],
   "source": [
    "def gradient2(f, variable):\n",
    "    return sympy.Matrix([f]).jacobian(variables).T"
   ]
  },
  {
   "cell_type": "code",
   "execution_count": 112,
   "metadata": {
    "collapsed": false
   },
   "outputs": [
    {
     "data": {
      "image/png": "[encoded data removed]",
      "text/latex": [
       "$$\\left[\\begin{matrix}6 x_{1}^{2} - 3 x_{2}\\\\- 3 x_{1} + 6 x_{2}^{2}\\end{matrix}\\right]$$"
      ],
      "text/plain": [
       "⎡    2        ⎤\n",
       "⎢6⋅x₁  - 3⋅x₂ ⎥\n",
       "⎢             ⎥\n",
       "⎢            2⎥\n",
       "⎣-3⋅x₁ + 6⋅x₂ ⎦"
      ]
     },
     "execution_count": 112,
     "metadata": {},
     "output_type": "execute_result"
    }
   ],
   "source": [
    "df = gradient(f, variables)\n",
    "df"
   ]
  },
  {
   "cell_type": "code",
   "execution_count": 113,
   "metadata": {
    "collapsed": false
   },
   "outputs": [
    {
     "data": {
      "image/png": "[encoded data removed]",
      "text/latex": [
       "$$\\left[\\begin{matrix}6 x_{1}^{2} - 3 x_{2}\\\\- 3 x_{1} + 6 x_{2}^{2}\\end{matrix}\\right]$$"
      ],
      "text/plain": [
       "⎡    2        ⎤\n",
       "⎢6⋅x₁  - 3⋅x₂ ⎥\n",
       "⎢             ⎥\n",
       "⎢            2⎥\n",
       "⎣-3⋅x₁ + 6⋅x₂ ⎦"
      ]
     },
     "execution_count": 113,
     "metadata": {},
     "output_type": "execute_result"
    }
   ],
   "source": [
    "gradient2(f, variables)"
   ]
  },
  {
   "cell_type": "markdown",
   "metadata": {},
   "source": [
    "### Second order derivative"
   ]
  },
  {
   "cell_type": "code",
   "execution_count": 114,
   "metadata": {
    "collapsed": false
   },
   "outputs": [
    {
     "data": {
      "image/png": "[encoded data removed]",
      "text/latex": [
       "$$\\left [ 12 x_{1}, \\quad 12 x_{2}\\right ]$$"
      ],
      "text/plain": [
       "[12⋅x₁, 12⋅x₂]"
      ]
     },
     "execution_count": 114,
     "metadata": {},
     "output_type": "execute_result"
    }
   ],
   "source": [
    "df2 = [f.diff(variable, 2) for variable in variables]\n",
    "df2"
   ]
  },
  {
   "cell_type": "markdown",
   "metadata": {},
   "source": [
    "Partial derivative w.r.t. one variable then the next"
   ]
  },
  {
   "cell_type": "code",
   "execution_count": 115,
   "metadata": {
    "collapsed": false
   },
   "outputs": [
    {
     "data": {
      "image/png": "[encoded data removed]",
      "text/latex": [
       "$$\\left [ -3, \\quad -3\\right ]$$"
      ],
      "text/plain": [
       "[-3, -3]"
      ]
     },
     "execution_count": 115,
     "metadata": {},
     "output_type": "execute_result"
    }
   ],
   "source": [
    "dfx1x2 = [df[i].diff(variable) for i, variable in enumerate(reversed(variables))]\n",
    "dfx1x2"
   ]
  },
  {
   "cell_type": "markdown",
   "metadata": {},
   "source": [
    "Remember the Hessian is the matrix of repeated partial differentials:\n",
    "\n",
    "$$\\begin{bmatrix} \\frac{\\partial^2 f}{\\partial x_{1}^2} & \\frac{\\partial^2 f}{\\partial x_{1} \\partial x_{2}} \\\\ \\frac{\\partial^2 f}{\\partial x_{2} \\partial x_{1}} & \\frac{\\partial^2 f}{\\partial x_{2}^2} \\end{bmatrix}$$"
   ]
  },
  {
   "cell_type": "markdown",
   "metadata": {},
   "source": [
    "Luckily, sympy supplies a function to calculate the Hessian"
   ]
  },
  {
   "cell_type": "code",
   "execution_count": 117,
   "metadata": {
    "collapsed": false
   },
   "outputs": [],
   "source": [
    "F = sympy.Function('F')"
   ]
  },
  {
   "cell_type": "code",
   "execution_count": 118,
   "metadata": {
    "collapsed": false
   },
   "outputs": [
    {
     "data": {
      "image/png": "[encoded data removed]",
      "text/latex": [
       "$$\\left[\\begin{matrix}\\frac{\\partial^{2}}{\\partial x_{1}^{2}}  F{\\left (x_{1},x_{2} \\right )} & \\frac{\\partial^{2}}{\\partial x_{1}\\partial x_{2}}  F{\\left (x_{1},x_{2} \\right )}\\\\\\frac{\\partial^{2}}{\\partial x_{1}\\partial x_{2}}  F{\\left (x_{1},x_{2} \\right )} & \\frac{\\partial^{2}}{\\partial x_{2}^{2}}  F{\\left (x_{1},x_{2} \\right )}\\end{matrix}\\right]$$"
      ],
      "text/plain": [
       "⎡   2                    2             ⎤\n",
       "⎢  ∂                    ∂              ⎥\n",
       "⎢ ────(F(x₁, x₂))    ───────(F(x₁, x₂))⎥\n",
       "⎢    2               ∂x₂ ∂x₁           ⎥\n",
       "⎢ ∂x₁                                  ⎥\n",
       "⎢                                      ⎥\n",
       "⎢    2                  2              ⎥\n",
       "⎢   ∂                  ∂               ⎥\n",
       "⎢───────(F(x₁, x₂))   ────(F(x₁, x₂))  ⎥\n",
       "⎢∂x₂ ∂x₁                 2             ⎥\n",
       "⎣                     ∂x₂              ⎦"
      ]
     },
     "execution_count": 118,
     "metadata": {},
     "output_type": "execute_result"
    }
   ],
   "source": [
    "sympy.hessian(F(x1, x2), variables)"
   ]
  },
  {
   "cell_type": "code",
   "execution_count": 119,
   "metadata": {
    "collapsed": false
   },
   "outputs": [
    {
     "data": {
      "image/png": "[encoded data removed]",
      "text/latex": [
       "$$\\left[\\begin{matrix}12 x_{1} & -3\\\\-3 & 12 x_{2}\\end{matrix}\\right]$$"
      ],
      "text/plain": [
       "⎡12⋅x₁   -3  ⎤\n",
       "⎢            ⎥\n",
       "⎣ -3    12⋅x₂⎦"
      ]
     },
     "execution_count": 119,
     "metadata": {},
     "output_type": "execute_result"
    }
   ],
   "source": [
    "H = sympy.hessian(f, variables)\n",
    "H"
   ]
  },
  {
   "cell_type": "markdown",
   "metadata": {},
   "source": [
    "We can still evaluate these expressions at a specific point"
   ]
  },
  {
   "cell_type": "code",
   "execution_count": 120,
   "metadata": {
    "collapsed": false
   },
   "outputs": [
    {
     "data": {
      "image/png": "[encoded data removed]",
      "text/latex": [
       "$$\\left[\\begin{matrix}12 & -3\\\\-3 & 24\\end{matrix}\\right]$$"
      ],
      "text/plain": [
       "⎡12  -3⎤\n",
       "⎢      ⎥\n",
       "⎣-3  24⎦"
      ]
     },
     "execution_count": 120,
     "metadata": {},
     "output_type": "execute_result"
    }
   ],
   "source": [
    "H.subs({x1: 1, x2: 2})"
   ]
  },
  {
   "cell_type": "code",
   "execution_count": 121,
   "metadata": {
    "collapsed": false
   },
   "outputs": [
    {
     "data": {
      "image/png": "[encoded data removed]",
      "text/latex": [
       "$$\\left[\\begin{matrix}4 & 2\\\\2 & 3.0\\end{matrix}\\right]$$"
      ],
      "text/plain": [
       "⎡4   2 ⎤\n",
       "⎢      ⎥\n",
       "⎣2  3.0⎦"
      ]
     },
     "execution_count": 121,
     "metadata": {},
     "output_type": "execute_result"
    }
   ],
   "source": [
    "f2 = 2*x1**2 + 2*x1*x2 + 1.5*x2**2 + 7*x1 + 8*x2 + 24\n",
    "H2 = sympy.hessian(f2, [x1, x2])\n",
    "H2"
   ]
  },
  {
   "cell_type": "markdown",
   "metadata": {},
   "source": [
    "## Positive definite matrices\n",
    "\n",
    "Positive definiteness is the matrix analogue to positiveness in scalars. Observe these definitions:\n",
    "\n",
    "$x^THx \\geq 0 \\forall x \\iff H~\\text{positive semidefinite}$ similar to $h \\geq 0 \\iff h~\\text{positive}$\n",
    "\n",
    "$x^THx > 0 \\forall x \\neq 0 \\iff H~\\text{positive definite}$ similar to $h > 0 \\iff h~\\text{strictly positive}$\n",
    "\n",
    "$x^THx < 0 \\forall x \\neq 0 \\iff H~\\text{negative definite}$ similar to $h < 0 \\iff h~\\text{strictly negative}$\n",
    "\n",
    "$x^THx \\leq 0 \\forall x \\iff H~\\text{positive semidefinite}$ similar to $h \\leq 0 \\iff h~\\text{negative}$\n",
    "\n",
    "There are several ways to determine whether a matrix is positive definite.\n",
    "\n",
    "The first involves evaluating the leading principal minors. The minors are the determinants of matrices obtained by removing a certain number of rows and columns. If the rows and columns which are removed have the same indices, the minor is called a principal minor. If the rows and columns removed are also from the beginning to some point $i$, it is known as a leading minor."
   ]
  },
  {
   "cell_type": "code",
   "execution_count": 122,
   "metadata": {
    "collapsed": false
   },
   "outputs": [],
   "source": [
    "def leading_minors(A):\n",
    "    rows, cols = A.shape\n",
    "    return [A[:n+1, :n+1].det() for n in range(rows)]"
   ]
  },
  {
   "cell_type": "code",
   "execution_count": 123,
   "metadata": {
    "collapsed": false
   },
   "outputs": [
    {
     "data": {
      "image/png": "[encoded data removed]",
      "text/latex": [
       "$$\\left [ 4, \\quad 8.0\\right ]$$"
      ],
      "text/plain": [
       "[4, 8.0]"
      ]
     },
     "execution_count": 123,
     "metadata": {},
     "output_type": "execute_result"
    }
   ],
   "source": [
    "leading_minors(H2)"
   ]
  },
  {
   "cell_type": "code",
   "execution_count": 124,
   "metadata": {
    "collapsed": false
   },
   "outputs": [
    {
     "data": {
      "image/png": "[encoded data removed]",
      "text/latex": [
       "$$\\left ( 4, \\quad 8.0\\right )$$"
      ],
      "text/plain": [
       "(4, 8.0)"
      ]
     },
     "execution_count": 124,
     "metadata": {},
     "output_type": "execute_result"
    }
   ],
   "source": [
    "H2.berkowitz_minors()"
   ]
  },
  {
   "cell_type": "code",
   "execution_count": 125,
   "metadata": {
    "collapsed": false
   },
   "outputs": [],
   "source": [
    "def posdef_minor(A):\n",
    "    return all(m >= 0 for m in leading_minors(A))"
   ]
  },
  {
   "cell_type": "code",
   "execution_count": 126,
   "metadata": {
    "collapsed": false
   },
   "outputs": [
    {
     "data": {
      "text/plain": [
       "True"
      ]
     },
     "execution_count": 126,
     "metadata": {},
     "output_type": "execute_result"
    }
   ],
   "source": [
    "posdef_minor(H2)"
   ]
  },
  {
   "cell_type": "markdown",
   "metadata": {},
   "source": [
    "The second method is to check if all the eigenvalues are positive"
   ]
  },
  {
   "cell_type": "code",
   "execution_count": 127,
   "metadata": {
    "collapsed": false
   },
   "outputs": [
    {
     "data": {
      "image/png": "[encoded data removed]",
      "text/latex": [
       "$$\\left[\\begin{matrix}4 & 2\\\\2 & 3.0\\end{matrix}\\right]$$"
      ],
      "text/plain": [
       "⎡4   2 ⎤\n",
       "⎢      ⎥\n",
       "⎣2  3.0⎦"
      ]
     },
     "execution_count": 127,
     "metadata": {},
     "output_type": "execute_result"
    }
   ],
   "source": [
    "H2"
   ]
  },
  {
   "cell_type": "code",
   "execution_count": 128,
   "metadata": {
    "collapsed": false,
    "scrolled": true
   },
   "outputs": [
    {
     "data": {
      "image/png": "[encoded data removed]",
      "text/latex": [
       "$$\\left [ 1.44, \\quad 5.56\\right ]$$"
      ],
      "text/plain": [
       "[1.44, 5.56]"
      ]
     },
     "execution_count": 128,
     "metadata": {},
     "output_type": "execute_result"
    }
   ],
   "source": [
    "EV = H2.eigenvals()\n",
    "EVs = [sympy.N(i,3) for i in EV]\n",
    "EVs"
   ]
  },
  {
   "cell_type": "code",
   "execution_count": 129,
   "metadata": {
    "collapsed": false
   },
   "outputs": [],
   "source": [
    "def posdef_eigen(A):\n",
    "    return all(EV >= 0 for EV in A.eigenvals())"
   ]
  },
  {
   "cell_type": "code",
   "execution_count": 130,
   "metadata": {
    "collapsed": false
   },
   "outputs": [
    {
     "data": {
      "text/plain": [
       "True"
      ]
     },
     "execution_count": 130,
     "metadata": {},
     "output_type": "execute_result"
    }
   ],
   "source": [
    "posdef_eigen(H2)"
   ]
  },
  {
   "cell_type": "markdown",
   "metadata": {},
   "source": [
    "So what's the difference between these methods? They will all work, but some take longer than others."
   ]
  },
  {
   "cell_type": "code",
   "execution_count": 131,
   "metadata": {
    "collapsed": true
   },
   "outputs": [],
   "source": [
    "size = 20"
   ]
  },
  {
   "cell_type": "code",
   "execution_count": 132,
   "metadata": {
    "collapsed": false
   },
   "outputs": [
    {
     "name": "stdout",
     "output_type": "stream",
     "text": [
      "1 loop, best of 3: 951 ms per loop\n"
     ]
    }
   ],
   "source": [
    "%%timeit\n",
    "H2 = sympy.randMatrix(size)\n",
    "posdef_minor(H2)"
   ]
  },
  {
   "cell_type": "code",
   "execution_count": 133,
   "metadata": {
    "collapsed": false
   },
   "outputs": [
    {
     "name": "stdout",
     "output_type": "stream",
     "text": [
      "1 loop, best of 3: 438 ms per loop\n"
     ]
    }
   ],
   "source": [
    "%%timeit\n",
    "H2 = sympy.randMatrix(size)\n",
    "posdef_eigen(H2)"
   ]
  },
  {
   "cell_type": "code",
   "execution_count": null,
   "metadata": {
    "collapsed": true
   },
   "outputs": [],
   "source": []
  }
 ],
 "metadata": {
  "celltoolbar": "Raw Cell Format",
  "kernelspec": {
   "display_name": "Python 3",
   "language": "python",
   "name": "python3"
  },
  "language_info": {
   "codemirror_mode": {
    "name": "ipython",
    "version": 3
   },
   "file_extension": ".py",
   "mimetype": "text/x-python",
   "name": "python",
   "nbconvert_exporter": "python",
   "pygments_lexer": "ipython3",
   "version": "3.5.2"
  }
 },
 "nbformat": 4,
 "nbformat_minor": 0
}

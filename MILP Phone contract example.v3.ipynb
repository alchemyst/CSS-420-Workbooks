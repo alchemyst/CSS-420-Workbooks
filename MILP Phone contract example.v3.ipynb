{
 "metadata": {
  "kernelspec": {
   "display_name": "Python 3",
   "language": "python",
   "name": "python3"
  },
  "language_info": {
   "codemirror_mode": {
    "name": "ipython",
    "version": 3
   },
   "file_extension": ".py",
   "mimetype": "text/x-python",
   "name": "python",
   "nbconvert_exporter": "python",
   "pygments_lexer": "ipython3",
   "version": "3.5.1"
  },
  "name": ""
 },
 "nbformat": 3,
 "nbformat_minor": 0,
 "worksheets": [
  {
   "cells": [
    {
     "cell_type": "markdown",
     "metadata": {},
     "source": [
      "Phone contract choice example\n",
      "================\n",
      "\n",
      "This is a small example of using MILP to choose between options. Also see the spreadsheet solution of the problem.\n",
      "\n",
      "Briefly, we must choose a cell phone contract from one of three providers. A contract costs a certain amount and supplies a certain number of \"free minutes\". We only pay for minutes above this \"free\" amount. Some providers also supply bundles. If we have a contract from that provier, we can add a bundle. To keep things simple in this problem, we will pretend that we can only buy one bundle (or choose not to buy a bundle at all). The problem is to minimise total cost for a known amount of minutes used."
     ]
    },
    {
     "cell_type": "markdown",
     "metadata": {},
     "source": [
      "We'll use [PuLP](https://pythonhosted.org/PuLP/) to solve this problem. The website has some good examples to get you going."
     ]
    },
    {
     "cell_type": "code",
     "collapsed": true,
     "input": [
      "import pulp"
     ],
     "language": "python",
     "metadata": {},
     "outputs": [],
     "prompt_number": 1
    },
    {
     "cell_type": "markdown",
     "metadata": {},
     "source": [
      "We create a LpProblem instance."
     ]
    },
    {
     "cell_type": "code",
     "collapsed": false,
     "input": [
      "p = pulp.LpProblem(\"Phone contract\", pulp.LpMinimize)"
     ],
     "language": "python",
     "metadata": {},
     "outputs": [],
     "prompt_number": 2
    },
    {
     "cell_type": "markdown",
     "metadata": {},
     "source": [
      "Specify how many minutes to use."
     ]
    },
    {
     "cell_type": "code",
     "collapsed": true,
     "input": [
      "minutes_used = 299"
     ],
     "language": "python",
     "metadata": {},
     "outputs": [],
     "prompt_number": 3
    },
    {
     "cell_type": "markdown",
     "metadata": {},
     "source": [
      "Define the data for the problem. Providers:"
     ]
    },
    {
     "cell_type": "code",
     "collapsed": true,
     "input": [
      "providers = ['MTN', 'Vodacom', 'CellC']\n",
      "contract_cost = dict(zip(providers, [300, 200, 100]))\n",
      "contract_minutes = dict(zip(providers, [200, 250, 150]))\n",
      "contract_call_cost = dict(zip(providers, [1, 2, 3]))"
     ],
     "language": "python",
     "metadata": {},
     "outputs": [],
     "prompt_number": 4
    },
    {
     "cell_type": "markdown",
     "metadata": {},
     "source": [
      "We can pay extra for some \"free\" minutes"
     ]
    },
    {
     "cell_type": "code",
     "collapsed": true,
     "input": [
      "bundles = ['MTN 1', 'MTN 2', 'Vodacom']\n",
      "bundle_cost = dict(zip(bundles, [20, 30, 50]))\n",
      "bundle_minutes = dict(zip(bundles, [25, 40, 30]))"
     ],
     "language": "python",
     "metadata": {},
     "outputs": [],
     "prompt_number": 5
    },
    {
     "cell_type": "markdown",
     "metadata": {},
     "source": [
      "Define the variables used - these will all be determined by the solver. First, binary variables to decide which providers and bundles to choose."
     ]
    },
    {
     "cell_type": "code",
     "collapsed": false,
     "input": [
      "contract_chosen = pulp.LpVariable.dicts('contract_chosen', providers, cat='Binary')\n",
      "bundle_chosen = pulp.LpVariable.dicts('bundle_chosen', bundles, cat='Binary')"
     ],
     "language": "python",
     "metadata": {},
     "outputs": [],
     "prompt_number": 6
    },
    {
     "cell_type": "markdown",
     "metadata": {},
     "source": [
      "Then continuous variables to figure out some internal numbers - we'll keep track of how many minutes we have to pay for and how many minutes we'll use from the bundles."
     ]
    },
    {
     "cell_type": "code",
     "collapsed": true,
     "input": [
      "minutes_paid_for = pulp.LpVariable.dicts('minutes_paid_for', providers, lowBound=0)\n",
      "minutes_from_bundles = pulp.LpVariable.dicts('minutes_from_bundles', providers, lowBound=0)"
     ],
     "language": "python",
     "metadata": {},
     "outputs": [],
     "prompt_number": 7
    },
    {
     "cell_type": "code",
     "collapsed": false,
     "input": [
      "minutes_after_free = {provider: max(minutes_used - contract_minutes[provider], 0) for provider in providers}"
     ],
     "language": "python",
     "metadata": {},
     "outputs": [],
     "prompt_number": 8
    },
    {
     "cell_type": "markdown",
     "metadata": {},
     "source": [
      "Objective function\n",
      "-----------------\n",
      "\n",
      "Our objective is to minimize total cost"
     ]
    },
    {
     "cell_type": "code",
     "collapsed": false,
     "input": [
      "p += (sum(contract_chosen[provider]*contract_cost[provider] for provider in providers) +\n",
      "      sum(bundle_chosen[bundle]*bundle_cost[bundle] for bundle in bundles) +\n",
      "      sum(minutes_paid_for[provider]*contract_call_cost[provider] for provider in providers))"
     ],
     "language": "python",
     "metadata": {},
     "outputs": [],
     "prompt_number": 9
    },
    {
     "cell_type": "markdown",
     "metadata": {},
     "source": [
      "Constraints\n",
      "-----------\n"
     ]
    },
    {
     "cell_type": "markdown",
     "metadata": {},
     "source": [
      "Must choose exactly one provider"
     ]
    },
    {
     "cell_type": "code",
     "collapsed": true,
     "input": [
      "p += sum(contract_chosen[provider] for provider in providers) == 1"
     ],
     "language": "python",
     "metadata": {},
     "outputs": [],
     "prompt_number": 10
    },
    {
     "cell_type": "markdown",
     "metadata": {},
     "source": [
      "This equality constraint can be seen as a \"calculation\", we're figuring out how many minutes are supplied by the bundles we've chosen. Note that I've used a naming convention here to find out which bundle belongs to which provider."
     ]
    },
    {
     "cell_type": "code",
     "collapsed": true,
     "input": [
      "for provider in providers:\n",
      "    p += minutes_from_bundles[provider] == sum(bundle_chosen[bundle]*bundle_minutes[bundle] \n",
      "                                               for bundle in bundles \n",
      "                                               if bundle.startswith(provider))"
     ],
     "language": "python",
     "metadata": {},
     "outputs": [],
     "prompt_number": 11
    },
    {
     "cell_type": "markdown",
     "metadata": {},
     "source": [
      "This constraint will figure out how many minutes need to be payed for: note that if the RHS is negative, the minutes paid for will be pushed to zero by the optimisation. The final term is a \"Big M\" constraint relaxation, effectively switching off this constraint for providers which have not been chosen. This can be seen as a logic statement \"If provider x is chosen, we must pay for these minutes, else the constraint is so low that only the zero lower bound holds\""
     ]
    },
    {
     "cell_type": "code",
     "collapsed": true,
     "input": [
      "for provider in providers:\n",
      "    p += minutes_paid_for[provider] >= (minutes_after_free[provider] - \n",
      "                                        minutes_from_bundles[provider] -\n",
      "                                        (1-contract_chosen[provider])*minutes_used)"
     ],
     "language": "python",
     "metadata": {},
     "outputs": [],
     "prompt_number": 12
    },
    {
     "cell_type": "code",
     "collapsed": false,
     "input": [
      "p.solve()"
     ],
     "language": "python",
     "metadata": {},
     "outputs": [
      {
       "metadata": {},
       "output_type": "pyout",
       "prompt_number": 13,
       "text": [
        "1"
       ]
      }
     ],
     "prompt_number": 13
    },
    {
     "cell_type": "code",
     "collapsed": false,
     "input": [
      "for provider in providers:\n",
      "    if contract_chosen[provider].value():\n",
      "        print('Provider:', provider)\n",
      "for bundle in bundles:\n",
      "    if bundle_chosen[bundle].value():\n",
      "        print('Bundle:', bundle)"
     ],
     "language": "python",
     "metadata": {},
     "outputs": [
      {
       "output_type": "stream",
       "stream": "stdout",
       "text": [
        "Provider: Vodacom\n",
        "Bundle: Vodacom\n"
       ]
      }
     ],
     "prompt_number": 16
    },
    {
     "cell_type": "code",
     "collapsed": false,
     "input": [
      "cost = p.objective.value()\n",
      "cost"
     ],
     "language": "python",
     "metadata": {},
     "outputs": [
      {
       "metadata": {},
       "output_type": "pyout",
       "prompt_number": 19,
       "text": [
        "288.0"
       ]
      }
     ],
     "prompt_number": 19
    }
   ],
   "metadata": {}
  }
 ]
}

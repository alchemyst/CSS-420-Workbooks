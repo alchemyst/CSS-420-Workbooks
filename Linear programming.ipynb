{
 "cells": [
  {
   "cell_type": "code",
   "execution_count": 1,
   "metadata": {},
   "outputs": [],
   "source": [
    "import numpy\n",
    "import scipy.optimize"
   ]
  },
  {
   "cell_type": "markdown",
   "metadata": {},
   "source": [
    "Objective:\n",
    "\n",
    "maximise $f(x) = 36x_1 + 24x_4 + 21x_5 + 10x_6 - 24.5x_1 - 16x_2$\n",
    "\n",
    "Subject to:\n",
    "\n",
    "Gasoline: $0.8x_1 + 0.44x_2 = x_3$\n",
    "\n",
    "Kerosene: $0.05x_1 + 0.1x_2 = x_4$\n",
    "\n",
    "Fuel oil: $0.1x_1 + 0.36x_2 = x_5$\n",
    "\n",
    "Residual: $0.05x_1 + 0.1x_2 = x_6$\n",
    "\n",
    "Gasoline: $x_3 \\leq 24000$\n",
    "\n",
    "Kerosene: $x_4 \\leq 2000$\n",
    "\n",
    "Fuel oil: $x_5 \\leq 6000$"
   ]
  },
  {
   "cell_type": "markdown",
   "metadata": {},
   "source": [
    "Note: we need a negative on the coefficients to maximize"
   ]
  },
  {
   "cell_type": "code",
   "execution_count": 2,
   "metadata": {},
   "outputs": [],
   "source": [
    "c = -numpy.array([36 - 24.5, -16, 0, 24, 21, 10])"
   ]
  },
  {
   "cell_type": "code",
   "execution_count": 3,
   "metadata": {},
   "outputs": [],
   "source": [
    "A_eq = numpy.array([[0.8, 0.44, -1, 0, 0, 0],\n",
    "                   [0.05, 0.1, 0, -1, 0, 0],\n",
    "                   [0.1, 0.25, 0, 0, -1, 0],\n",
    "                   [0.05, 0.1, 0, 0, 0, -1],\n",
    "                   ])"
   ]
  },
  {
   "cell_type": "code",
   "execution_count": 4,
   "metadata": {},
   "outputs": [],
   "source": [
    "b_eq = numpy.array([0, 0, 0, 0])"
   ]
  },
  {
   "cell_type": "code",
   "execution_count": 5,
   "metadata": {},
   "outputs": [],
   "source": [
    "bounds = [(0, None),  # x1\n",
    "          (0, None),   # x2\n",
    "          (0, 24000),   # x3\n",
    "          (0, 2000),   # x4\n",
    "          (0, 6000),   # x5\n",
    "          (0, None),   # x6\n",
    "         ]"
   ]
  },
  {
   "cell_type": "code",
   "execution_count": 7,
   "metadata": {},
   "outputs": [
    {
     "data": {
      "text/plain": [
       "     fun: -459000.0000000001\n",
       " message: 'Optimization terminated successfully.'\n",
       "     nit: 7\n",
       "   slack: array([   0.,  500., 3000.])\n",
       "  status: 0\n",
       " success: True\n",
       "       x: array([30000.,     0., 24000.,  1500.,  3000.,  1500.])"
      ]
     },
     "execution_count": 7,
     "metadata": {},
     "output_type": "execute_result"
    }
   ],
   "source": [
    "scipy.optimize.linprog(c, A_eq=A_eq, b_eq=b_eq, bounds=bounds)"
   ]
  },
  {
   "cell_type": "code",
   "execution_count": null,
   "metadata": {},
   "outputs": [],
   "source": []
  }
 ],
 "metadata": {
  "kernelspec": {
   "display_name": "Python 3",
   "language": "python",
   "name": "python3"
  },
  "language_info": {
   "codemirror_mode": {
    "name": "ipython",
    "version": 3
   },
   "file_extension": ".py",
   "mimetype": "text/x-python",
   "name": "python",
   "nbconvert_exporter": "python",
   "pygments_lexer": "ipython3",
   "version": "3.6.5"
  }
 },
 "nbformat": 4,
 "nbformat_minor": 1
}
